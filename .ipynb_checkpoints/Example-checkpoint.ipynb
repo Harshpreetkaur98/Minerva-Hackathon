{
 "cells": [
  {
   "cell_type": "code",
   "execution_count": 1,
   "metadata": {},
   "outputs": [
    {
     "ename": "",
     "evalue": "",
     "output_type": "error",
     "traceback": [
      "\u001b[1;31mFailed to connect to the remote Jupyter Server 'http://localhost:8888/'. Verify the server is running and reachable. (Failed to connect to the remote Jupyter Server 'http://localhost:8888/'. Verify the server is running and reachable. (request to http://localhost:8888/api/kernels?1737877862413 failed, reason: connect ECONNREFUSED 127.0.0.1:8888).)."
     ]
    }
   ],
   "source": [
    "import yfinance as yf\n",
    "import numpy as np\n",
    "import pandas as pd\n",
    "import matplotlib.pyplot as plt\n",
    "from matplotlib.pyplot import Figure as fig\n",
    "from pylab import rcParams\n",
    "from datetime import timedelta\n",
    "import statsmodels.api as sm\n",
    "from ResearchClass import PlotEvaluations, EvaluationMetrics, TradesBook, StrategyTemplate\n",
    "import os\n",
    "\n",
    "rcParams['figure.figsize'] = 20,10\n",
    "\n",
    "%matplotlib inline\n",
    "\n",
    "pd.options.mode.chained_assignment = None  # default='warn'"
   ]
  },
  {
   "cell_type": "code",
   "execution_count": 2,
   "metadata": {},
   "outputs": [],
   "source": [
    "class PlotEvaluations:\n",
    "    def __init__(self, trade_book, figsize=(10, 7)):\n",
    "        self.trade_book = trade_book\n",
    "        self.figsize = figsize\n",
    "\n",
    "    def PlotSummary(self):\n",
    "        \"\"\"\n",
    "        Creates a summary plot showing price action, SMAs, Bollinger Bands, and trade entries/exits\n",
    "        \"\"\"\n",
    "        plt.figure(figsize=self.figsize)\n",
    "\n",
    "        # Plot price and indicators\n",
    "        plt.plot(self.trade_book.data.index, self.trade_book.data['Close'],\n",
    "                label='Close Price', alpha=0.7, color='blue')\n",
    "        plt.plot(self.trade_book.data.index, self.trade_book.data['SMA_SHORT'],\n",
    "                label=f'Short SMA', alpha=0.7, color='orange')\n",
    "        plt.plot(self.trade_book.data.index, self.trade_book.data['SMA_LONG'],\n",
    "                label=f'Long SMA', alpha=0.7, color='red')\n",
    "\n",
    "        # Plot Bollinger Bands\n",
    "        plt.plot(self.trade_book.data.index, self.trade_book.data['BB_upper'],\n",
    "                label='Upper BB', alpha=0.3, color='gray', linestyle='--')\n",
    "        plt.plot(self.trade_book.data.index, self.trade_book.data['SMA_BB'],\n",
    "                label='Middle BB', alpha=0.3, color='gray')\n",
    "        plt.plot(self.trade_book.data.index, self.trade_book.data['BB_lower'],\n",
    "                label='Lower BB', alpha=0.3, color='gray', linestyle='--')\n",
    "\n",
    "        # Fill between Bollinger Bands\n",
    "        plt.fill_between(self.trade_book.data.index,\n",
    "                        self.trade_book.data['BB_upper'],\n",
    "                        self.trade_book.data['BB_lower'],\n",
    "                        alpha=0.1, color='gray')\n",
    "\n",
    "        # Plot trade entries and exits\n",
    "        for trade in self.trade_book.trades:\n",
    "            if trade.sizing > 0:  # Long trade\n",
    "                plt.scatter(trade.entry_time, trade.entry_price,\n",
    "                          marker='^', color='green', s=100, label='Long Entry' if 'Long Entry' not in plt.gca().get_legend_handles_labels()[1] else '')\n",
    "                plt.scatter(trade.exit_time, trade.exit_price,\n",
    "                          marker='v', color='red', s=100, label='Long Exit' if 'Long Exit' not in plt.gca().get_legend_handles_labels()[1] else '')\n",
    "            else:  # Short trade\n",
    "                plt.scatter(trade.entry_time, trade.entry_price,\n",
    "                          marker='v', color='red', s=100, label='Short Entry' if 'Short Entry' not in plt.gca().get_legend_handles_labels()[1] else '')\n",
    "                plt.scatter(trade.exit_time, trade.exit_price,\n",
    "                          marker='^', color='green', s=100, label='Short Exit' if 'Short Exit' not in plt.gca().get_legend_handles_labels()[1] else '')\n",
    "\n",
    "        plt.title('Strategy Performance with Bollinger Bands')\n",
    "        plt.xlabel('Date')\n",
    "        plt.ylabel('Price')\n",
    "        plt.legend(loc='best')\n",
    "        plt.grid(True, alpha=0.3)\n",
    "        plt.show"
   ]
  },
  {
   "cell_type": "code",
   "execution_count": null,
   "metadata": {},
   "outputs": [],
   "source": []
  },
  {
   "cell_type": "code",
   "execution_count": null,
   "metadata": {},
   "outputs": [],
   "source": []
  },
  {
   "cell_type": "code",
   "execution_count": null,
   "metadata": {},
   "outputs": [],
   "source": []
  }
 ],
 "metadata": {
  "kernelspec": {
   "display_name": "Python 3 (ipykernel)",
   "language": "python",
   "name": "python3"
  }
 },
 "nbformat": 4,
 "nbformat_minor": 4
}
