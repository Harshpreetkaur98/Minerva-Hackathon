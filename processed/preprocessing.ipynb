{
 "cells": [
  {
   "cell_type": "code",
   "execution_count": 12,
   "metadata": {},
   "outputs": [
    {
     "name": "stdout",
     "output_type": "stream",
     "text": [
      "         Date   Price    Open    High     Low    Vol. Change %\n",
      "0  01/24/2025  647.49  636.40  652.00  634.20  19.07M    1.73%\n",
      "1  01/23/2025  636.45  627.36  636.60  621.15   9.91M    2.08%\n",
      "2  01/22/2025  623.50  623.30  633.70  619.43  12.27M    1.14%\n",
      "3  01/21/2025  616.46  617.83  621.50  609.01  11.67M    0.60%\n",
      "4  01/17/2025  612.77  624.05  624.97  603.67  17.28M    0.24%\n",
      "Index(['Date', 'Price', 'Open', 'High', 'Low', 'Vol.', 'Change %'], dtype='object')\n"
     ]
    }
   ],
   "source": [
    "import pandas as pd\n",
    "\n",
    "# Load the data again\n",
    "data = pd.read_csv('data1/Meta_Platforms_Stock_Price_History.csv')\n",
    "\n",
    "# Print the first few rows of the dataset to inspect the 'Date' column\n",
    "print(data.head())\n",
    "\n",
    "# Print column names to verify if 'Date' is present\n",
    "print(data.columns)\n"
   ]
  },
  {
   "cell_type": "code",
   "execution_count": 13,
   "metadata": {},
   "outputs": [
    {
     "name": "stdout",
     "output_type": "stream",
     "text": [
      "Index(['Date', 'Price', 'Open', 'High', 'Low', 'Vol.', 'Change %'], dtype='object')\n"
     ]
    }
   ],
   "source": [
    "# Strip extra spaces from column names\n",
    "data.columns = data.columns.str.strip()\n",
    "\n",
    "# Print the column names again to confirm\n",
    "print(data.columns)\n"
   ]
  },
  {
   "cell_type": "code",
   "execution_count": 14,
   "metadata": {},
   "outputs": [
    {
     "name": "stdout",
     "output_type": "stream",
     "text": [
      "        Date   Price    Open    High     Low    Vol. Change %\n",
      "0 2025-01-24  647.49  636.40  652.00  634.20  19.07M    1.73%\n",
      "1 2025-01-23  636.45  627.36  636.60  621.15   9.91M    2.08%\n",
      "2 2025-01-22  623.50  623.30  633.70  619.43  12.27M    1.14%\n",
      "3 2025-01-21  616.46  617.83  621.50  609.01  11.67M    0.60%\n",
      "4 2025-01-17  612.77  624.05  624.97  603.67  17.28M    0.24%\n"
     ]
    }
   ],
   "source": [
    "# Convert 'Date' column to datetime\n",
    "data['Date'] = pd.to_datetime(data['Date'], format='%m/%d/%Y')\n",
    "\n",
    "# Print the first few rows to check the result\n",
    "print(data.head())\n"
   ]
  },
  {
   "cell_type": "code",
   "execution_count": 15,
   "metadata": {},
   "outputs": [
    {
     "name": "stdout",
     "output_type": "stream",
     "text": [
      "             Price    Open    High     Low    Vol. Change %\n",
      "Date                                                       \n",
      "2025-01-24  647.49  636.40  652.00  634.20  19.07M    1.73%\n",
      "2025-01-23  636.45  627.36  636.60  621.15   9.91M    2.08%\n",
      "2025-01-22  623.50  623.30  633.70  619.43  12.27M    1.14%\n",
      "2025-01-21  616.46  617.83  621.50  609.01  11.67M    0.60%\n",
      "2025-01-17  612.77  624.05  624.97  603.67  17.28M    0.24%\n"
     ]
    }
   ],
   "source": [
    "# Set 'Date' as the index\n",
    "data.set_index('Date', inplace=True)\n",
    "\n",
    "# Print the first few rows to confirm\n",
    "print(data.head())\n"
   ]
  },
  {
   "cell_type": "code",
   "execution_count": 16,
   "metadata": {},
   "outputs": [
    {
     "name": "stdout",
     "output_type": "stream",
     "text": [
      "             Price    Open    High     Low        Vol.  Change %\n",
      "Date                                                            \n",
      "2025-01-24  647.49  636.40  652.00  634.20  19070000.0    0.0173\n",
      "2025-01-23  636.45  627.36  636.60  621.15   9910000.0    0.0208\n",
      "2025-01-22  623.50  623.30  633.70  619.43  12270000.0    0.0114\n",
      "2025-01-21  616.46  617.83  621.50  609.01  11670000.0    0.0060\n",
      "2025-01-17  612.77  624.05  624.97  603.67  17280000.0    0.0024\n"
     ]
    }
   ],
   "source": [
    "# Remove 'M' and 'K' from 'Vol.' and convert to numeric\n",
    "data['Vol.'] = data['Vol.'].replace({'M': '*1e6', 'K': '*1e3'}, regex=True).map(pd.eval).astype(float)\n",
    "\n",
    "# Remove '%' from 'Change %' and convert to numeric\n",
    "data['Change %'] = data['Change %'].str.rstrip('%').astype('float') / 100.0\n",
    "\n",
    "# Print the cleaned data\n",
    "print(data.head())\n"
   ]
  },
  {
   "cell_type": "code",
   "execution_count": 17,
   "metadata": {},
   "outputs": [
    {
     "name": "stdout",
     "output_type": "stream",
     "text": [
      "             Price    Open    High     Low        Vol.  Change %\n",
      "Date                                                            \n",
      "2025-01-24  647.49  636.40  652.00  634.20  19070000.0    0.0173\n",
      "2025-01-23  636.45  627.36  636.60  621.15   9910000.0    0.0208\n",
      "2025-01-22  623.50  623.30  633.70  619.43  12270000.0    0.0114\n",
      "2025-01-21  616.46  617.83  621.50  609.01  11670000.0    0.0060\n",
      "2025-01-17  612.77  624.05  624.97  603.67  17280000.0    0.0024\n"
     ]
    }
   ],
   "source": [
    "# Final check of the preprocessed data\n",
    "print(data.head())\n"
   ]
  },
  {
   "cell_type": "code",
   "execution_count": 18,
   "metadata": {},
   "outputs": [
    {
     "name": "stdout",
     "output_type": "stream",
     "text": [
      "         Date   Price    Open    High     Low    Vol. Change %\n",
      "0  01/24/2025  647.49  636.40  652.00  634.20  19.07M    1.73%\n",
      "1  01/23/2025  636.45  627.36  636.60  621.15   9.91M    2.08%\n",
      "2  01/22/2025  623.50  623.30  633.70  619.43  12.27M    1.14%\n",
      "3  01/21/2025  616.46  617.83  621.50  609.01  11.67M    0.60%\n",
      "4  01/17/2025  612.77  624.05  624.97  603.67  17.28M    0.24%\n",
      "Index(['Date', 'Price', 'Open', 'High', 'Low', 'Vol.', 'Change %'], dtype='object')\n"
     ]
    }
   ],
   "source": [
    "# Load the data again\n",
    "data = pd.read_csv('data1/Meta_Platforms_Stock_Price_History.csv')\n",
    "\n",
    "# Print the first few rows of the dataset to inspect the 'Date' column\n",
    "print(data.head())\n",
    "\n",
    "# Print column names to verify if 'Date' is present\n",
    "print(data.columns)\n"
   ]
  },
  {
   "cell_type": "code",
   "execution_count": 19,
   "metadata": {},
   "outputs": [
    {
     "name": "stdout",
     "output_type": "stream",
     "text": [
      "         Date   Price    Open    High     Low    Vol. Change %\n",
      "0  01/24/2025  647.49  636.40  652.00  634.20  19.07M    1.73%\n",
      "1  01/23/2025  636.45  627.36  636.60  621.15   9.91M    2.08%\n",
      "2  01/22/2025  623.50  623.30  633.70  619.43  12.27M    1.14%\n",
      "3  01/21/2025  616.46  617.83  621.50  609.01  11.67M    0.60%\n",
      "4  01/17/2025  612.77  624.05  624.97  603.67  17.28M    0.24%\n",
      "Index(['Date', 'Price', 'Open', 'High', 'Low', 'Vol.', 'Change %'], dtype='object')\n"
     ]
    }
   ],
   "source": [
    "# Load the data again\n",
    "data = pd.read_csv('data1/Meta_Platforms_Stock_Price_History.csv')\n",
    "\n",
    "# Print the first few rows of the dataset to inspect the 'Date' column\n",
    "print(data.head())\n",
    "\n",
    "# Print column names to verify if 'Date' is present\n",
    "print(data.columns)\n"
   ]
  },
  {
   "cell_type": "code",
   "execution_count": 20,
   "metadata": {},
   "outputs": [
    {
     "name": "stdout",
     "output_type": "stream",
     "text": [
      "             Price    Open    High     Low    Vol. Change %\n",
      "Date                                                       \n",
      "01/24/2025  647.49  636.40  652.00  634.20  19.07M    1.73%\n",
      "01/23/2025  636.45  627.36  636.60  621.15   9.91M    2.08%\n",
      "01/22/2025  623.50  623.30  633.70  619.43  12.27M    1.14%\n",
      "01/21/2025  616.46  617.83  621.50  609.01  11.67M    0.60%\n",
      "01/17/2025  612.77  624.05  624.97  603.67  17.28M    0.24%\n"
     ]
    }
   ],
   "source": [
    "# Set 'Date' as the index\n",
    "data.set_index('Date', inplace=True)\n",
    "\n",
    "# Print the first few rows to confirm\n",
    "print(data.head())\n"
   ]
  },
  {
   "cell_type": "code",
   "execution_count": 21,
   "metadata": {},
   "outputs": [
    {
     "name": "stdout",
     "output_type": "stream",
     "text": [
      "             Price    Open    High     Low        Vol.  Change %\n",
      "Date                                                            \n",
      "01/24/2025  647.49  636.40  652.00  634.20  19070000.0    0.0173\n",
      "01/23/2025  636.45  627.36  636.60  621.15   9910000.0    0.0208\n",
      "01/22/2025  623.50  623.30  633.70  619.43  12270000.0    0.0114\n",
      "01/21/2025  616.46  617.83  621.50  609.01  11670000.0    0.0060\n",
      "01/17/2025  612.77  624.05  624.97  603.67  17280000.0    0.0024\n"
     ]
    }
   ],
   "source": [
    "# Remove 'M' and 'K' from 'Vol.' and convert to numeric\n",
    "data['Vol.'] = data['Vol.'].replace({'M': '*1e6', 'K': '*1e3'}, regex=True).map(pd.eval).astype(float)\n",
    "\n",
    "# Remove '%' from 'Change %' and convert to numeric\n",
    "data['Change %'] = data['Change %'].str.rstrip('%').astype('float') / 100.0\n",
    "\n",
    "# Print the cleaned data\n",
    "print(data.head())\n"
   ]
  },
  {
   "cell_type": "code",
   "execution_count": 22,
   "metadata": {},
   "outputs": [
    {
     "name": "stdout",
     "output_type": "stream",
     "text": [
      "             Price    Open    High     Low        Vol.  Change %\n",
      "Date                                                            \n",
      "01/24/2025  647.49  636.40  652.00  634.20  19070000.0    0.0173\n",
      "01/23/2025  636.45  627.36  636.60  621.15   9910000.0    0.0208\n",
      "01/22/2025  623.50  623.30  633.70  619.43  12270000.0    0.0114\n",
      "01/21/2025  616.46  617.83  621.50  609.01  11670000.0    0.0060\n",
      "01/17/2025  612.77  624.05  624.97  603.67  17280000.0    0.0024\n"
     ]
    }
   ],
   "source": [
    "# Final check of the preprocessed data\n",
    "print(data.head())\n"
   ]
  },
  {
   "cell_type": "code",
   "execution_count": 23,
   "metadata": {},
   "outputs": [
    {
     "name": "stdout",
     "output_type": "stream",
     "text": [
      "Price       0\n",
      "Open        0\n",
      "High        0\n",
      "Low         0\n",
      "Vol.        0\n",
      "Change %    0\n",
      "dtype: int64\n"
     ]
    },
    {
     "name": "stderr",
     "output_type": "stream",
     "text": [
      "C:\\Users\\Harshpreet kaur\\AppData\\Local\\Temp\\ipykernel_16360\\1575650017.py:2: FutureWarning: DataFrame.fillna with 'method' is deprecated and will raise in a future version. Use obj.ffill() or obj.bfill() instead.\n",
      "  data.fillna(method='ffill', inplace=True)\n"
     ]
    }
   ],
   "source": [
    "# Fill missing values with forward fill (use previous valid value)\n",
    "data.fillna(method='ffill', inplace=True)\n",
    "\n",
    "# OR Drop rows with any missing values\n",
    "# data.dropna(inplace=True)\n",
    "\n",
    "# Check again to confirm there are no missing values\n",
    "print(data.isnull().sum())\n"
   ]
  },
  {
   "cell_type": "code",
   "execution_count": 24,
   "metadata": {},
   "outputs": [
    {
     "name": "stdout",
     "output_type": "stream",
     "text": [
      "Duplicate rows: 0\n",
      "Duplicate rows: 0\n"
     ]
    }
   ],
   "source": [
    "# Check for duplicate rows\n",
    "print(f\"Duplicate rows: {data.duplicated().sum()}\")\n",
    "\n",
    "# Drop duplicates\n",
    "data.drop_duplicates(inplace=True)\n",
    "\n",
    "# Confirm if duplicates are removed\n",
    "print(f\"Duplicate rows: {data.duplicated().sum()}\")\n"
   ]
  },
  {
   "cell_type": "code",
   "execution_count": 25,
   "metadata": {},
   "outputs": [
    {
     "name": "stdout",
     "output_type": "stream",
     "text": [
      "File saved as 'preprocessed_data.parquet'.\n"
     ]
    }
   ],
   "source": [
    "# Save the preprocessed data as a Parquet file\n",
    "data.to_parquet('preprocessed_data.parquet', index=False)\n",
    "\n",
    "# Confirm the file is saved\n",
    "print(\"File saved as 'preprocessed_data.parquet'.\")\n"
   ]
  },
  {
   "cell_type": "code",
   "execution_count": 26,
   "metadata": {},
   "outputs": [
    {
     "name": "stdout",
     "output_type": "stream",
     "text": [
      "File saved as 'preprocessed_data.csv'.\n"
     ]
    }
   ],
   "source": [
    "# Save the preprocessed data as a CSV file\n",
    "data.to_csv('preprocessed_data.csv', index=False)\n",
    "\n",
    "# Confirm the file is saved\n",
    "print(\"File saved as 'preprocessed_data.csv'.\")\n"
   ]
  }
 ],
 "metadata": {
  "kernelspec": {
   "display_name": "base",
   "language": "python",
   "name": "python3"
  },
  "language_info": {
   "codemirror_mode": {
    "name": "ipython",
    "version": 3
   },
   "file_extension": ".py",
   "mimetype": "text/x-python",
   "name": "python",
   "nbconvert_exporter": "python",
   "pygments_lexer": "ipython3",
   "version": "3.12.4"
  }
 },
 "nbformat": 4,
 "nbformat_minor": 2
}
