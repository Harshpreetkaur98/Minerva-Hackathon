{
  "nbformat": 4,
  "nbformat_minor": 0,
  "metadata": {
    "colab": {
      "provenance": [],
      "authorship_tag": "ABX9TyPnnVg8JMwOnV0a18U+zavB",
      "include_colab_link": true
    },
    "kernelspec": {
      "name": "python3",
      "display_name": "Python 3"
    },
    "language_info": {
      "name": "python"
    }
  },
  "cells": [
    {
      "cell_type": "markdown",
      "metadata": {
        "id": "view-in-github",
        "colab_type": "text"
      },
      "source": [
        "<a href=\"https://colab.research.google.com/github/Harshpreetkaur98/Minerva-Hackathon/blob/main/Training.ipynb\" target=\"_parent\"><img src=\"https://colab.research.google.com/assets/colab-badge.svg\" alt=\"Open In Colab\"/></a>"
      ]
    },
    {
      "cell_type": "code",
      "execution_count": 1,
      "metadata": {
        "id": "ssBaNfF9bcTU",
        "outputId": "effedbf1-2c45-4618-d967-5aba6f6ae799",
        "colab": {
          "base_uri": "https://localhost:8080/"
        }
      },
      "outputs": [
        {
          "output_type": "stream",
          "name": "stdout",
          "text": [
            "Data saved to AAPL_daily_5years.csv\n"
          ]
        }
      ],
      "source": [
        "import requests\n",
        "import pandas as pd\n",
        "\n",
        "API_KEY = 'RDAHECAXZK6C0FAQ'\n",
        "\n",
        "symbol = ['AAPL', 'TSLA', 'MSFT', 'V', 'NVDA', 'JNJ', 'KO', 'INTC', 'MCD']\n",
        "interval = '1d'  # Change to daily data\n",
        "url = f'https://www.alphavantage.co/query'\n",
        "\n",
        "params = {\n",
        "    'function': 'TIME_SERIES_DAILY',  # Change to DAILY for daily data\n",
        "    'symbol': symbol[0],  # Alpha Vantage only supports one symbol at a time\n",
        "    'apikey': API_KEY,\n",
        "    'datatype': 'json'\n",
        "}\n",
        "\n",
        "# Make the API request\n",
        "response = requests.get(url, params=params)\n",
        "\n",
        "# Check if the request was successful\n",
        "if response.status_code == 200:\n",
        "    data = response.json()\n",
        "\n",
        "    # Extract the time series data\n",
        "    time_series_key = 'Time Series (Daily)'  # Adjust key for daily data\n",
        "    if time_series_key in data:\n",
        "        time_series = data[time_series_key]\n",
        "\n",
        "        # Convert to a pandas DataFrame\n",
        "        df = pd.DataFrame.from_dict(time_series, orient='index')\n",
        "        df.index = pd.to_datetime(df.index)\n",
        "        df.columns = ['Open', 'High', 'Low', 'Close', 'Volume']\n",
        "        df = df.sort_index()\n",
        "\n",
        "        # Save to a CSV file\n",
        "        file_name = f'{symbol[0]}_daily_5years.csv'\n",
        "        df.to_csv(file_name)\n",
        "        print(f\"Data saved to {file_name}\")\n",
        "    else:\n",
        "        print(\"Error: Could not find the expected data in the API response.\")\n",
        "else:\n",
        "    print(f\"Error: {response.status_code}\")\n"
      ]
    }
  ]
}